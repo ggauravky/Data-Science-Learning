import numpy as np
import sys
import time


arr1=np.array([1,2,3,4,5,6,6,6])
arr2=np.array((1,2,3,4,5,6,))
print(arr1)

print("type :" ,type(arr1))
print("type :" ,type(arr2))
print("shape :" ,type(arr1.shape))
print("shape :" ,type(arr2.shape))
print("shape :" ,arr1.shape) # print the actual shape of the array (rows, columns)
print("shape :" ,arr2.shape) # print the actual shape of the array (rows, columns)



twodnumpy = np.array([[1,2,3],[4,5,6]])
print(twodnumpy)

print("shape :" ,type(twodnumpy.shape))
print("shape :" ,twodnumpy.shape)


list_data=list(range(1000))
numpy_data=np.array(list_data)
# print(list_data)
# print(numpy_data)
print("python list size: " ,sys.getsizeof(list_data)*len(list_data) , "Bytes")
print("numpy array list : ", numpy_data.nbytes , "bytes")


import numpy as np
import time

size=10000
list1=list(range(size))
list2=list(range(size))

# python list 
start = time.time()
result=[x+y for x,y in zip(list1,list2)]
end=time.time()
print("Python time: ", end-start)


# numpy aray

arr1=np.array(list1)
arr2=np.array(list2)

start = time.time()
result=arr1+arr2
end=time.time()
print("numpy time : ",end-start)


nums = [1, 2, 3, 4, 5, 6, 7, 8, 9, 10]
list_square = [n**2 for n in nums]
print(list_square)

arr3=np.array((1,2,3,4,5,6,))
numpy_sq=arr3*2
print(numpy_sq)
