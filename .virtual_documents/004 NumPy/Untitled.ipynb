import numpy as np


# 1D array
arr1=np.array([1,2,3,4,5,6])
print(arr1)

# 2D arrays
arr2=np.array([[1,2,3],{1,2,3]])
print(arr)



