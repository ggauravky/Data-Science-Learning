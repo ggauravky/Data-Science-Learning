{
 "cells": [
  {
   "cell_type": "code",
   "execution_count": 1,
   "id": "b5b980d6-f94b-40d5-8fe0-99f824745a96",
   "metadata": {},
   "outputs": [],
   "source": [
    "import json"
   ]
  },
  {
   "cell_type": "code",
   "execution_count": 5,
   "id": "35e3882e-4e0c-409b-a72c-1ccafedd00f7",
   "metadata": {},
   "outputs": [
    {
     "name": "stdout",
     "output_type": "stream",
     "text": [
      "{'users': [{'id': 1, 'name': 'Amit', 'friends': [2, 3], 'liked_pages': [101]}, {'id': 2, 'name': 'Priya', 'friends': [1, 4], 'liked_pages': [102]}, {'id': 3, 'name': 'Rahul', 'friends': [1], 'liked_pages': [101, 103]}, {'id': 4, 'name': 'Sara', 'friends': [2], 'liked_pages': [104]}], 'pages': [{'id': 101, 'name': 'Python Developers'}, {'id': 102, 'name': 'Data Science Enthusiasts'}, {'id': 103, 'name': 'AI & ML Community'}, {'id': 104, 'name': 'Web Dev Hub'}]}\n",
      "<class 'dict'>\n"
     ]
    }
   ],
   "source": [
    "# writing a function to load the data\n",
    "def load_data(filename):\n",
    "    with open(filename ,\"r\") as f:\n",
    "        data = json.load(f)\n",
    "    return data\n",
    "data=load_data(\"data.json\")\n",
    "print(data)\n",
    "print(type(data))"
   ]
  },
  {
   "cell_type": "code",
   "execution_count": 25,
   "id": "a316d8a3-1449-4938-a4a0-c1faf283feae",
   "metadata": {},
   "outputs": [
    {
     "name": "stdout",
     "output_type": "stream",
     "text": [
      "users and there connections\n",
      "ID:1- Amit is friends with :[2, 3] and liked pages are [101]\n",
      "ID:2- Priya is friends with :[1, 4] and liked pages are [102]\n",
      "ID:3- Rahul is friends with :[1] and liked pages are [101, 103]\n",
      "ID:4- Sara is friends with :[2] and liked pages are [104]\n",
      "\n",
      " page information\n",
      "101 : Python Developers\n",
      "102 : Data Science Enthusiasts\n",
      "103 : AI & ML Community\n",
      "104 : Web Dev Hub\n"
     ]
    }
   ],
   "source": [
    "# write a function to display user and there connection\n",
    "def diaplay_users(data):\n",
    "    print(\"users and there connections\")\n",
    "    for users in data[\"users\"]:\n",
    "        print(f\"ID:{users['id']}- {users['name']} is friends with :{users['friends']} and liked pages are {users['liked_pages']}\")\n",
    "    print(\"\\n page information\")\n",
    "    for pages in data['pages']:\n",
    "        print(f\"{pages['id']} : {pages['name']}\")\n",
    "\n",
    "diaplay_users(data)"
   ]
  },
  {
   "cell_type": "code",
   "execution_count": 2,
   "id": "e86e7d20-e0f8-4485-a8b8-9d2a4dcdd831",
   "metadata": {},
   "outputs": [
    {
     "name": "stdout",
     "output_type": "stream",
     "text": [
      "{'users': [{'id': 1, 'name': 'Amit', 'friends': [2, 3], 'liked_pages': [101]}, {'id': 2, 'name': 'Priya', 'friends': [1, 4], 'liked_pages': [102]}, {'id': 3, 'name': '', 'friends': [1], 'liked_pages': [101, 103]}, {'id': 4, 'name': 'Sara', 'friends': [2, 2], 'liked_pages': [104]}, {'id': 5, 'name': 'Amit', 'friends': [], 'liked_pages': []}], 'pages': [{'id': 101, 'name': 'Python Developers'}, {'id': 102, 'name': 'Data Science Enthusiasts'}, {'id': 103, 'name': 'AI & ML Community'}, {'id': 104, 'name': 'Web Dev Hub'}, {'id': 104, 'name': 'Web Development'}]}\n",
      "\n",
      "\n",
      "<class 'dict'>\n"
     ]
    }
   ],
   "source": [
    "# writing a function to load the data\n",
    "def load_data(filename):\n",
    "    with open(filename ,\"r\") as f:\n",
    "        data = json.load(f)\n",
    "    return data\n",
    "data=load_data(\"data2.json\")\n",
    "print(data)\n",
    "print(\"\\n\") \n",
    "print(type(data))"
   ]
  },
  {
   "cell_type": "code",
   "execution_count": 32,
   "id": "1325dec4-d7fe-429d-a785-f077eaa6cb6f",
   "metadata": {},
   "outputs": [
    {
     "name": "stdout",
     "output_type": "stream",
     "text": [
      "Data cleaned successfully!\n"
     ]
    }
   ],
   "source": [
    "import json\n",
    "\n",
    "def clean_data(data):\n",
    "    # Remove users with missing names\n",
    "    data[\"users\"] = [user for user in data[\"users\"] if user[\"name\"].strip()]\n",
    "    \n",
    "    # Remove duplicate friends\n",
    "    for user in data[\"users\"]:\n",
    "        user[\"friends\"] = list(set(user[\"friends\"]))\n",
    "    \n",
    "    # Remove inactive users\n",
    "    data[\"users\"] = [user for user in data[\"users\"] if user[\"friends\"] or user[\"liked_pages\"]]\n",
    "    \n",
    "    # Remove duplicate pages\n",
    "    unique_pages = {}\n",
    "    for page in data[\"pages\"]:\n",
    "        unique_pages[page[\"id\"]] = page\n",
    "    data[\"pages\"] = list(unique_pages.values())\n",
    "    \n",
    "    return data\n",
    "\n",
    "# Load, clean, and display the cleaned data\n",
    "data = json.load(open(\"codebook_data.json\"))\n",
    "data = clean_data(data)\n",
    "json.dump(data, open(\"cleaned_codebook_data.json\", \"w\"), indent=4)\n",
    "print(\"Data cleaned successfully!\")"
   ]
  }
 ],
 "metadata": {
  "kernelspec": {
   "display_name": "Python [conda env:base] *",
   "language": "python",
   "name": "conda-base-py"
  },
  "language_info": {
   "codemirror_mode": {
    "name": "ipython",
    "version": 3
   },
   "file_extension": ".py",
   "mimetype": "text/x-python",
   "name": "python",
   "nbconvert_exporter": "python",
   "pygments_lexer": "ipython3",
   "version": "3.13.5"
  }
 },
 "nbformat": 4,
 "nbformat_minor": 5
}
