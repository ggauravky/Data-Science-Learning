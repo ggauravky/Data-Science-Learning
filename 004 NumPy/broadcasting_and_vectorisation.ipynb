{
 "cells": [
  {
   "cell_type": "code",
   "execution_count": 3,
   "id": "3ba3600e-9dbe-464a-80c2-78f8449fe84b",
   "metadata": {},
   "outputs": [
    {
     "name": "stdout",
     "output_type": "stream",
     "text": [
      "DataFrame:\n",
      "    Age  Salary\n",
      "0   18   78600\n",
      "1   21   69512\n",
      "2   21   82620\n",
      "3   57   47089\n",
      "4   27   62230\n",
      "5   37   48983\n",
      "6   39   36921\n",
      "7   54   68804\n",
      "8   41   97699\n",
      "9   24   67619\n",
      "\n",
      "Summary statistics:\n",
      "              Age        Salary\n",
      "count  10.000000     10.000000\n",
      "mean   33.900000  66007.700000\n",
      "std    13.963842  18164.781187\n",
      "min    18.000000  36921.000000\n",
      "25%    21.750000  52294.750000\n",
      "50%    32.000000  68211.500000\n",
      "75%    40.500000  76328.000000\n",
      "max    57.000000  97699.000000\n",
      "\n",
      "Average salary: 66007.7\n"
     ]
    }
   ],
   "source": [
    "import numpy as np\n",
    "import pandas as pd\n",
    "import matplotlib.pyplot as plt\n",
    "\n",
    "# 1. Create some sample data\n",
    "np.random.seed(0)\n",
    "data = {\n",
    "    \"Age\": np.random.randint(18, 60, size=10),\n",
    "    \"Salary\": np.random.randint(30000, 100000, size=10)\n",
    "}\n",
    "df = pd.DataFrame(data)\n",
    "\n",
    "# 2. Show the data\n",
    "print(\"DataFrame:\\n\", df)\n",
    "\n",
    "# 3. Basic analysis\n",
    "print(\"\\nSummary statistics:\\n\", df.describe())\n",
    "print(\"\\nAverage salary:\", df[\"Salary\"].mean())\n",
    "\n"
   ]
  },
  {
   "cell_type": "code",
   "execution_count": null,
   "id": "f8554ed8-4bb5-47c4-9058-4e3c466fba78",
   "metadata": {},
   "outputs": [],
   "source": []
  }
 ],
 "metadata": {
  "kernelspec": {
   "display_name": "Python [conda env:base] *",
   "language": "python",
   "name": "conda-base-py"
  },
  "language_info": {
   "codemirror_mode": {
    "name": "ipython",
    "version": 3
   },
   "file_extension": ".py",
   "mimetype": "text/x-python",
   "name": "python",
   "nbconvert_exporter": "python",
   "pygments_lexer": "ipython3",
   "version": "3.13.5"
  }
 },
 "nbformat": 4,
 "nbformat_minor": 5
}
