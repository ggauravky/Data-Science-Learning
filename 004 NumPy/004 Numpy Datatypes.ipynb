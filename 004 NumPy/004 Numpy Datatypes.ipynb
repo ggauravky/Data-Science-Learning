{
 "cells": [
  {
   "cell_type": "code",
   "execution_count": 2,
   "id": "36fc0b93-8f21-4bd5-a4c6-e581100ca491",
   "metadata": {},
   "outputs": [],
   "source": [
    "import numpy as np"
   ]
  },
  {
   "cell_type": "code",
   "execution_count": 15,
   "id": "77e49504-b49a-431b-9156-312a9869a5d3",
   "metadata": {},
   "outputs": [
    {
     "name": "stdout",
     "output_type": "stream",
     "text": [
      "int64\n",
      "float64\n",
      "bool\n",
      "complex128\n",
      "<U14\n",
      "object\n",
      "<U32\n"
     ]
    }
   ],
   "source": [
    "arr= np.array([1,2,3,4,5])\n",
    "arr1= np.array([1.,2.,3.,4.,5.])\n",
    "arr2= np.array([True , False])\n",
    "arr3= np.array([2+3j])\n",
    "arr4= np.array([\"Gauarv \",\"is a good boy.\"])\n",
    "arr5= np.array([\"Gauarv \",\"is a good boy.\",12,34,2+4j,True] , dtype=object)\n",
    "arr6 = np.array([1, \"hello\", 3.14])\n",
    "\n",
    "print(arr.dtype)\n",
    "print(arr1.dtype)\n",
    "print(arr2.dtype)\n",
    "print(arr3.dtype)\n",
    "print(arr4.dtype)\n",
    "# U → means Unicode string type.\n",
    "# 13 → the maximum number of Unicode characters each string can hold.\n",
    "# < → the endianness (little-endian), though for text it usually doesn’t matter much.\n",
    "print(arr5.dtype)\n",
    "print(arr6.dtype)\n"
   ]
  },
  {
   "cell_type": "code",
   "execution_count": 23,
   "id": "f9cc4ed0-f2d4-4429-a1b8-a850d83c7061",
   "metadata": {},
   "outputs": [
    {
     "name": "stdout",
     "output_type": "stream",
     "text": [
      "float64\n",
      "int32\n",
      "int64\n"
     ]
    }
   ],
   "source": [
    "# changing the datatype\n",
    "\n",
    "# float to int\n",
    "\n",
    "arr1= np.array([1.,2.,3.,4.,5.])\n",
    "print(arr1.dtype)\n",
    "\n",
    "arr_int=arr1.astype(np.int32)\n",
    "print(arr_int.dtype)\n",
    "\n",
    "arr_int=arr1.astype(np.int64)\n",
    "print(arr_int.dtype)"
   ]
  },
  {
   "cell_type": "code",
   "execution_count": 27,
   "id": "41cbd837-f5b6-4b42-97a5-9e07f7310cbf",
   "metadata": {},
   "outputs": [
    {
     "name": "stdout",
     "output_type": "stream",
     "text": [
      "float64\n",
      "float32\n"
     ]
    }
   ],
   "source": [
    "# downcasing\n",
    "\n",
    "arr1= np.array([1.,2.,3.,4.,5.])\n",
    "arr_small=arr1.astype(np.float32)\n",
    "\n",
    "print(arr1.dtype)\n",
    "print(arr_small.dtype)\n"
   ]
  }
 ],
 "metadata": {
  "kernelspec": {
   "display_name": "Python [conda env:base] *",
   "language": "python",
   "name": "conda-base-py"
  },
  "language_info": {
   "codemirror_mode": {
    "name": "ipython",
    "version": 3
   },
   "file_extension": ".py",
   "mimetype": "text/x-python",
   "name": "python",
   "nbconvert_exporter": "python",
   "pygments_lexer": "ipython3",
   "version": "3.13.5"
  }
 },
 "nbformat": 4,
 "nbformat_minor": 5
}
