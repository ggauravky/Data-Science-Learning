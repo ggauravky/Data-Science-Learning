{
 "cells": [
  {
   "cell_type": "code",
   "execution_count": 1,
   "id": "11227fa1-239d-4637-9253-3750d9ae9938",
   "metadata": {},
   "outputs": [],
   "source": [
    "import numpy as np"
   ]
  },
  {
   "cell_type": "code",
   "execution_count": 5,
   "id": "a3fdf07a-d254-4d16-9b90-b372f5536855",
   "metadata": {},
   "outputs": [
    {
     "name": "stdout",
     "output_type": "stream",
     "text": [
      "[1 2 3 4 5 6]\n",
      "[[1 2 3]\n",
      " [1 2 3]]\n"
     ]
    }
   ],
   "source": [
    "# from python lists\n",
    "\n",
    "# 1D array\n",
    "arr1=np.array([1,2,3,4,5,6])\n",
    "print(arr1)\n",
    "\n",
    "# 2D arrays\n",
    "arr2=np.array([[1,2,3],[1,2,3]])\n",
    "print(arr2)"
   ]
  },
  {
   "cell_type": "code",
   "execution_count": 20,
   "id": "d40e9e32-5d86-4490-b7aa-5c3852ee8fd2",
   "metadata": {},
   "outputs": [
    {
     "name": "stdout",
     "output_type": "stream",
     "text": [
      "[[0. 0. 0.]\n",
      " [0. 0. 0.]\n",
      " [0. 0. 0.]]\n",
      "[[1. 1. 1.]\n",
      " [1. 1. 1.]\n",
      " [1. 1. 1.]]\n",
      "[[6 6 6 6 6 6 6 6 6 6 6 6 6 6 6 6 6 6 6 6 6 6 6 6 6 6 6 6 6 6]\n",
      " [6 6 6 6 6 6 6 6 6 6 6 6 6 6 6 6 6 6 6 6 6 6 6 6 6 6 6 6 6 6]\n",
      " [6 6 6 6 6 6 6 6 6 6 6 6 6 6 6 6 6 6 6 6 6 6 6 6 6 6 6 6 6 6]]\n",
      "[[1. 0. 0.]\n",
      " [0. 1. 0.]\n",
      " [0. 0. 1.]]\n",
      "[2 4 6 8]\n",
      "[ 2.          3.33333333  4.66666667  6.          7.33333333  8.66666667\n",
      " 10.        ]\n"
     ]
    }
   ],
   "source": [
    "# creating array from scatch\n",
    "\n",
    "print(np.zeros((3,3)))\n",
    "print(np.ones((3,3)))\n",
    "print(np.full((3,30),6))\n",
    "print(np.eye(3))\n",
    "print(np.arange(2,10,2))\n",
    "print(np.linspace(2,10,7))\n"
   ]
  },
  {
   "cell_type": "code",
   "execution_count": 24,
   "id": "ff4b40dd-ec3e-409d-8551-95c8d4832284",
   "metadata": {},
   "outputs": [
    {
     "name": "stdout",
     "output_type": "stream",
     "text": [
      " shape :  (4, 6)\n",
      " size :  24\n",
      " dimension :  2\n",
      " Data Type :  int64\n"
     ]
    }
   ],
   "source": [
    "# checking array properties\n",
    "import numpy as np\n",
    "\n",
    "arr=np.array([[1,2,3,4,5,6],[1,2,3,4,5,6],[1,2,3,4,5,6],[1,2,3,4,5,6]])\n",
    "print(\" shape : \",arr.shape)\n",
    "print(\" size : \",arr.size)\n",
    "print(\" dimension : \",arr.ndim)\n",
    "print(\" Data Type : \", arr.dtype)"
   ]
  },
  {
   "cell_type": "code",
   "execution_count": 27,
   "id": "536a852f-4600-477d-bf3d-5f3c36b65777",
   "metadata": {},
   "outputs": [
    {
     "name": "stdout",
     "output_type": "stream",
     "text": [
      "[1. 2. 3. 4.]\n",
      "float32\n",
      "[1 2 3 4]\n",
      "int32\n"
     ]
    }
   ],
   "source": [
    "# changing data type\n",
    "\n",
    "# explicit data type\n",
    "arr=np.array([1,2,3,4],dtype=np.float32)\n",
    "print(arr)\n",
    "print(arr.dtype)\n",
    "\n",
    "# convert to another type\n",
    "arr_int=arr.astype(np.int32)\n",
    "print(arr_int)\n",
    "print(arr_int.dtype)\n"
   ]
  },
  {
   "cell_type": "code",
   "execution_count": 30,
   "id": "53c3255f-c4e1-4c97-8e42-4ba37f98153f",
   "metadata": {},
   "outputs": [
    {
     "name": "stdout",
     "output_type": "stream",
     "text": [
      "(2, 3)\n",
      "[[1 2]\n",
      " [3 4]\n",
      " [5 6]]\n",
      "[1 2 3 4 5 6]\n"
     ]
    }
   ],
   "source": [
    "# reShaping and flattering arrays\n",
    "\n",
    "arr=np.array([[1,2,3],[4,5,6]])\n",
    "arr2=np.array([[1,2,3],[4,5,6]])\n",
    "print(arr.shape)\n",
    "\n",
    "# reshape to 2x3 -> 3X2:\n",
    "reshape=arr.reshape((3,2))\n",
    "print(reshape)\n",
    "\n",
    "# flatten : 2D -> 1D :\n",
    "flattend=arr2.flatten()\n",
    "print(flattend)"
   ]
  }
 ],
 "metadata": {
  "kernelspec": {
   "display_name": "Python [conda env:base] *",
   "language": "python",
   "name": "conda-base-py"
  },
  "language_info": {
   "codemirror_mode": {
    "name": "ipython",
    "version": 3
   },
   "file_extension": ".py",
   "mimetype": "text/x-python",
   "name": "python",
   "nbconvert_exporter": "python",
   "pygments_lexer": "ipython3",
   "version": "3.13.5"
  }
 },
 "nbformat": 4,
 "nbformat_minor": 5
}
