{
 "cells": [
  {
   "cell_type": "code",
   "execution_count": 1,
   "id": "d2241806-8f51-4d7e-9987-0a45dc9ba6ba",
   "metadata": {},
   "outputs": [],
   "source": [
    "import numpy as np\n",
    "import sys\n",
    "import time"
   ]
  },
  {
   "cell_type": "code",
   "execution_count": 9,
   "id": "08ac4401-1772-46f2-8d59-5dfbf1011d6e",
   "metadata": {
    "panel-layout": {
     "height": 0,
     "visible": true,
     "width": 100
    }
   },
   "outputs": [
    {
     "name": "stdout",
     "output_type": "stream",
     "text": [
      "[1 2 3 4 5 6 6 6]\n",
      "type : <class 'numpy.ndarray'>\n",
      "type : <class 'numpy.ndarray'>\n",
      "shape : <class 'tuple'>\n",
      "shape : <class 'tuple'>\n",
      "shape : (8,)\n",
      "shape : (6,)\n"
     ]
    }
   ],
   "source": [
    "arr1=np.array([1,2,3,4,5,6,6,6])\n",
    "arr2=np.array((1,2,3,4,5,6,))\n",
    "print(arr1)\n",
    "\n",
    "print(\"type :\" ,type(arr1))\n",
    "print(\"type :\" ,type(arr2))\n",
    "print(\"shape :\" ,type(arr1.shape))\n",
    "print(\"shape :\" ,type(arr2.shape))\n",
    "print(\"shape :\" ,arr1.shape) # print the actual shape of the array (rows, columns)\n",
    "print(\"shape :\" ,arr2.shape) # print the actual shape of the array (rows, columns)\n"
   ]
  },
  {
   "cell_type": "code",
   "execution_count": 12,
   "id": "e5df85db-8f87-46e5-a146-b29db7096f3c",
   "metadata": {
    "panel-layout": {
     "height": 0,
     "visible": true,
     "width": 100
    }
   },
   "outputs": [
    {
     "name": "stdout",
     "output_type": "stream",
     "text": [
      "[[1 2 3]\n",
      " [4 5 6]]\n",
      "shape : <class 'tuple'>\n",
      "shape : (2, 3)\n"
     ]
    }
   ],
   "source": [
    "twodnumpy = np.array([[1,2,3],[4,5,6]])\n",
    "print(twodnumpy)\n",
    "\n",
    "print(\"shape :\" ,type(twodnumpy.shape))\n",
    "print(\"shape :\" ,twodnumpy.shape)"
   ]
  },
  {
   "cell_type": "code",
   "execution_count": 19,
   "id": "a26115eb-eede-49ed-8096-176530a6fa06",
   "metadata": {
    "panel-layout": {
     "height": 0,
     "visible": true,
     "width": 100
    }
   },
   "outputs": [
    {
     "name": "stdout",
     "output_type": "stream",
     "text": [
      "python list size:  8056000 Bytes\n",
      "numpy array list :  8000 bytes\n"
     ]
    }
   ],
   "source": [
    "list_data=list(range(1000))\n",
    "numpy_data=np.array(list_data)\n",
    "# print(list_data)\n",
    "# print(numpy_data)\n",
    "print(\"python list size: \" ,sys.getsizeof(list_data)*len(list_data) , \"Bytes\")\n",
    "print(\"numpy array list : \", numpy_data.nbytes , \"bytes\")"
   ]
  },
  {
   "cell_type": "code",
   "execution_count": 2,
   "id": "dca86a9e-f7cc-4319-833e-df304ce7545c",
   "metadata": {},
   "outputs": [
    {
     "name": "stdout",
     "output_type": "stream",
     "text": [
      "Python time:  0.0007145404815673828\n",
      "numpy time :  0.0003330707550048828\n"
     ]
    }
   ],
   "source": [
    "import numpy as np\n",
    "import time\n",
    "\n",
    "size=10000\n",
    "list1=list(range(size))\n",
    "list2=list(range(size))\n",
    "\n",
    "# python list \n",
    "start = time.time()\n",
    "result=[x+y for x,y in zip(list1,list2)]\n",
    "end=time.time()\n",
    "print(\"Python time: \", end-start)\n",
    "\n",
    "\n",
    "# numpy aray\n",
    "\n",
    "arr1=np.array(list1)\n",
    "arr2=np.array(list2)\n",
    "\n",
    "start = time.time()\n",
    "result=arr1+arr2\n",
    "end=time.time()\n",
    "print(\"numpy time : \",end-start)"
   ]
  },
  {
   "cell_type": "code",
   "execution_count": 9,
   "id": "8090caf5-9b77-47dd-9964-9f4518e3c865",
   "metadata": {},
   "outputs": [
    {
     "name": "stdout",
     "output_type": "stream",
     "text": [
      "[1, 4, 9, 16, 25, 36, 49, 64, 81, 100]\n",
      "[ 2  4  6  8 10 12]\n"
     ]
    }
   ],
   "source": [
    "nums = [1, 2, 3, 4, 5, 6, 7, 8, 9, 10]\n",
    "list_square = [n**2 for n in nums]\n",
    "print(list_square)\n",
    "\n",
    "arr3=np.array((1,2,3,4,5,6,))\n",
    "numpy_sq=arr3*2\n",
    "print(numpy_sq)"
   ]
  }
 ],
 "metadata": {
  "kernelspec": {
   "display_name": "Python [conda env:base] *",
   "language": "python",
   "name": "conda-base-py"
  },
  "language_info": {
   "codemirror_mode": {
    "name": "ipython",
    "version": 3
   },
   "file_extension": ".py",
   "mimetype": "text/x-python",
   "name": "python",
   "nbconvert_exporter": "python",
   "pygments_lexer": "ipython3",
   "version": "3.13.5"
  },
  "panel-cell-order": [
   "08ac4401-1772-46f2-8d59-5dfbf1011d6e",
   "e5df85db-8f87-46e5-a146-b29db7096f3c",
   "a26115eb-eede-49ed-8096-176530a6fa06"
  ]
 },
 "nbformat": 4,
 "nbformat_minor": 5
}
