{
 "cells": [
  {
   "cell_type": "code",
   "execution_count": 2,
   "id": "d4626a2b-92f1-4167-a66a-b9c47210ef54",
   "metadata": {},
   "outputs": [],
   "source": [
    "import numpy as np"
   ]
  },
  {
   "cell_type": "code",
   "execution_count": 6,
   "id": "5dd127a9-40b4-45f4-8901-43516b9b2f46",
   "metadata": {},
   "outputs": [
    {
     "name": "stdout",
     "output_type": "stream",
     "text": [
      "10\n",
      "[10 20 30 40 50]\n",
      "[]\n",
      "[40]\n",
      "[50 40 30 20 10]\n"
     ]
    }
   ],
   "source": [
    "arr= np.array([10,20 , 30 ,40 , 50])\n",
    "print(arr[0])\n",
    "# print(arr[10])\n",
    "print(arr[0:9])\n",
    "print(arr[9:11])\n",
    "print(arr[3:5:7])\n",
    "print(arr[::-1])\n"
   ]
  },
  {
   "cell_type": "code",
   "execution_count": 20,
   "id": "4daa0c95-e381-4326-a032-49ac8232bff2",
   "metadata": {},
   "outputs": [
    {
     "name": "stdout",
     "output_type": "stream",
     "text": [
      "[[2 3 4 5]\n",
      " [3 4 5 6]]\n",
      "4\n",
      "[[3 4]\n",
      " [4 5]]\n"
     ]
    }
   ],
   "source": [
    "arr=np.array([[2,3,4,5],[3,4,5,6]])\n",
    "print(arr)\n",
    "\n",
    "print(arr[0,2])\n",
    "print(arr[0:2,1:3]) # rows:coluns"
   ]
  },
  {
   "cell_type": "code",
   "execution_count": 31,
   "id": "d7284e6e-c1d1-4c4d-830d-0239fb3a87e4",
   "metadata": {},
   "outputs": [
    {
     "name": "stdout",
     "output_type": "stream",
     "text": [
      "(4,)\n",
      "[2 3 4 5]\n",
      "[3 4 5]\n",
      "arr: [      2 9999999       4       5]\n",
      "sli: [9999999       4       5]\n"
     ]
    }
   ],
   "source": [
    "# not same as python list and copy\n",
    "\n",
    "arr=np.array([2,3,4,5])\n",
    "sliced=arr[1:5]\n",
    "print(arr.shape)\n",
    "print(arr)\n",
    "print(sliced)\n",
    "\n",
    "sliced[0]=9999999\n",
    "print(\"arr:\",arr)\n",
    "print(\"sli:\",sliced)\n"
   ]
  },
  {
   "cell_type": "code",
   "execution_count": 35,
   "id": "18a12a1d-d995-4b88-babf-cb119b2833da",
   "metadata": {},
   "outputs": [
    {
     "name": "stdout",
     "output_type": "stream",
     "text": [
      "[2 3 4 5]\n",
      "[3 4 5]\n",
      "arr: [2 3 4 5]\n",
      "sli: [9999999       4       5]\n"
     ]
    }
   ],
   "source": [
    "# we have to use , copy()\n",
    "\n",
    "arr=np.array([2,3,4,5])\n",
    "sliced=arr[1:5].copy()\n",
    "print(arr)\n",
    "print(sliced)\n",
    "\n",
    "sliced[0]=9999999\n",
    "print(\"arr:\",arr)\n",
    "print(\"sli:\",sliced)"
   ]
  },
  {
   "cell_type": "code",
   "execution_count": 45,
   "id": "07be1fd0-3071-43e0-ba5b-84a1f1e55140",
   "metadata": {},
   "outputs": [
    {
     "name": "stdout",
     "output_type": "stream",
     "text": [
      "[3 5]\n",
      "[3 5]\n"
     ]
    }
   ],
   "source": [
    "# fancy indexing\n",
    "\n",
    "arr=np.array([2,3,4,5])\n",
    "index=[1,3]\n",
    "print(arr[index])\n",
    "\n",
    "arr2=np.array([[2,3,4,5],[3,4,5,6]])\n",
    "print(arr2[[0,1],[1,2]])"
   ]
  },
  {
   "cell_type": "code",
   "execution_count": 48,
   "id": "b5759386-44a7-42f5-ae54-303c92d9bc9b",
   "metadata": {},
   "outputs": [
    {
     "name": "stdout",
     "output_type": "stream",
     "text": [
      "[25 36 40 59]\n",
      "[False  True  True False]\n"
     ]
    }
   ],
   "source": [
    "# boolean masking (filtering arrays)\n",
    "\n",
    "arr=np.array([25,36,40,59])\n",
    "arr2=arr>1\n",
    "arr3=arr%2==0\n",
    "print(arr)\n",
    "print(arr3)"
   ]
  },
  {
   "cell_type": "code",
   "execution_count": null,
   "id": "5d8c4370-bbfe-4e1f-9864-a23af28b2660",
   "metadata": {},
   "outputs": [],
   "source": []
  }
 ],
 "metadata": {
  "kernelspec": {
   "display_name": "Python [conda env:base] *",
   "language": "python",
   "name": "conda-base-py"
  },
  "language_info": {
   "codemirror_mode": {
    "name": "ipython",
    "version": 3
   },
   "file_extension": ".py",
   "mimetype": "text/x-python",
   "name": "python",
   "nbconvert_exporter": "python",
   "pygments_lexer": "ipython3",
   "version": "3.13.5"
  }
 },
 "nbformat": 4,
 "nbformat_minor": 5
}
